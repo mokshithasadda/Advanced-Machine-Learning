{
 "cells": [
  {
   "cell_type": "markdown",
   "id": "d1062ced",
   "metadata": {},
   "source": [
    "# AML-Expriment 08"
   ]
  },
  {
   "cell_type": "markdown",
   "id": "e2409692",
   "metadata": {},
   "source": [
    "20BTRCD056-SADDA SAI MOKSHITHA"
   ]
  },
  {
   "cell_type": "code",
   "execution_count": 1,
   "id": "8ceebdb4-8b60-4a48-84fd-d5b1703b07c4",
   "metadata": {},
   "outputs": [],
   "source": [
    "import pandas as pd\n",
    "import numpy as np\n",
    "import matplotlib.pyplot as plt\n",
    "import warnings\n",
    "warnings.filterwarnings('ignore')\n",
    "import time"
   ]
  },
  {
   "cell_type": "code",
   "execution_count": 2,
   "id": "c20e4e7b-d7d1-4bfd-8384-55977067cc84",
   "metadata": {},
   "outputs": [],
   "source": [
    "data = pd.read_csv(\"MCL_dataset.csv\")"
   ]
  },
  {
   "cell_type": "code",
   "execution_count": 3,
   "id": "6a5b989f-2dc2-4962-90df-e7e2f3cc84a2",
   "metadata": {},
   "outputs": [
    {
     "data": {
      "text/html": [
       "<div>\n",
       "<style scoped>\n",
       "    .dataframe tbody tr th:only-of-type {\n",
       "        vertical-align: middle;\n",
       "    }\n",
       "\n",
       "    .dataframe tbody tr th {\n",
       "        vertical-align: top;\n",
       "    }\n",
       "\n",
       "    .dataframe thead th {\n",
       "        text-align: right;\n",
       "    }\n",
       "</style>\n",
       "<table border=\"1\" class=\"dataframe\">\n",
       "  <thead>\n",
       "    <tr style=\"text-align: right;\">\n",
       "      <th></th>\n",
       "      <th>Ingredient</th>\n",
       "      <th>Product</th>\n",
       "      <th>QMerged_label</th>\n",
       "      <th>Real_Cost</th>\n",
       "      <th>V_0</th>\n",
       "    </tr>\n",
       "  </thead>\n",
       "  <tbody>\n",
       "    <tr>\n",
       "      <th>0</th>\n",
       "      <td>1</td>\n",
       "      <td>1</td>\n",
       "      <td>11</td>\n",
       "      <td>10</td>\n",
       "      <td>0</td>\n",
       "    </tr>\n",
       "    <tr>\n",
       "      <th>1</th>\n",
       "      <td>1</td>\n",
       "      <td>2</td>\n",
       "      <td>12</td>\n",
       "      <td>6</td>\n",
       "      <td>0</td>\n",
       "    </tr>\n",
       "    <tr>\n",
       "      <th>2</th>\n",
       "      <td>2</td>\n",
       "      <td>1</td>\n",
       "      <td>21</td>\n",
       "      <td>8</td>\n",
       "      <td>0</td>\n",
       "    </tr>\n",
       "    <tr>\n",
       "      <th>3</th>\n",
       "      <td>2</td>\n",
       "      <td>2</td>\n",
       "      <td>22</td>\n",
       "      <td>11</td>\n",
       "      <td>0</td>\n",
       "    </tr>\n",
       "    <tr>\n",
       "      <th>4</th>\n",
       "      <td>3</td>\n",
       "      <td>1</td>\n",
       "      <td>31</td>\n",
       "      <td>3</td>\n",
       "      <td>0</td>\n",
       "    </tr>\n",
       "    <tr>\n",
       "      <th>5</th>\n",
       "      <td>3</td>\n",
       "      <td>2</td>\n",
       "      <td>32</td>\n",
       "      <td>7</td>\n",
       "      <td>0</td>\n",
       "    </tr>\n",
       "    <tr>\n",
       "      <th>6</th>\n",
       "      <td>4</td>\n",
       "      <td>1</td>\n",
       "      <td>41</td>\n",
       "      <td>8</td>\n",
       "      <td>0</td>\n",
       "    </tr>\n",
       "    <tr>\n",
       "      <th>7</th>\n",
       "      <td>4</td>\n",
       "      <td>2</td>\n",
       "      <td>42</td>\n",
       "      <td>5</td>\n",
       "      <td>0</td>\n",
       "    </tr>\n",
       "    <tr>\n",
       "      <th>8</th>\n",
       "      <td>4</td>\n",
       "      <td>3</td>\n",
       "      <td>43</td>\n",
       "      <td>1</td>\n",
       "      <td>0</td>\n",
       "    </tr>\n",
       "  </tbody>\n",
       "</table>\n",
       "</div>"
      ],
      "text/plain": [
       "   Ingredient  Product  QMerged_label  Real_Cost  V_0\n",
       "0           1        1             11         10    0\n",
       "1           1        2             12          6    0\n",
       "2           2        1             21          8    0\n",
       "3           2        2             22         11    0\n",
       "4           3        1             31          3    0\n",
       "5           3        2             32          7    0\n",
       "6           4        1             41          8    0\n",
       "7           4        2             42          5    0\n",
       "8           4        3             43          1    0"
      ]
     },
     "execution_count": 3,
     "metadata": {},
     "output_type": "execute_result"
    }
   ],
   "source": [
    "data"
   ]
  },
  {
   "cell_type": "code",
   "execution_count": 4,
   "id": "b86d789b-5049-42e2-b972-f470af1683ff",
   "metadata": {},
   "outputs": [],
   "source": [
    "def MCModelv1(data, alpha, e, epsilon, budget, reward):\n",
    "    # Define the States\n",
    "    Ingredients = list(set(data['Ingredient']))\n",
    "    # Initialise V_0\n",
    "    V0 = data['V_0']\n",
    "    data['V'] = V0\n",
    "    output = []\n",
    "    output1 = []\n",
    "    output2 = []\n",
    "    actioninfull = []\n",
    "    #Interate over the number of episodes specified\n",
    "    for e in range(0,e):\n",
    "        \n",
    "        episode_run = []\n",
    "        #Introduce epsilon-greedy selection, we randomly select the first episode as V_0(a) = 0 for all actions\n",
    "        epsilon = epsilon\n",
    "        if e == 0:\n",
    "            for i in range(0,len(Ingredients)):\n",
    "                episode_run = np.append(episode_run,np.random.random_integers(low = 1, high = sum(1 for p in data.iloc[:, 0] if p == i+1 ), size = None))\n",
    "            episode_run = episode_run.astype(int)\n",
    "        \n",
    "        else:\n",
    "            for i in range(0,len(Ingredients)):\n",
    "                greedyselection = np.random.random_integers(low = 1, high =10)\n",
    "                if greedyselection <= (epsilon)*10:\n",
    "                    episode_run = np.append(episode_run,np.random.random_integers(low = 1, high = sum(1 for p in data.iloc[:, 0] if p == i+1 ), size = None))\n",
    "                else:\n",
    "                    data_I = data[data['Ingredient'] == (i+1)] \n",
    "                    MaxofVforI = data_I[data_I['V'] == data_I['V'].max() ]['Product']\n",
    "                    #If multiple max values, take first\n",
    "                    MaxofVforI = MaxofVforI.values[0]\n",
    "                    episode_run = np.append(episode_run, MaxofVforI)\n",
    "                    \n",
    "                episode_run = episode_run.astype(int)\n",
    "                \n",
    "               \n",
    "           \n",
    "        episode = pd.DataFrame({'Ingredient' : Ingredients, 'Product': episode_run})    \n",
    "        episode['Merged_label'] =  (episode['Ingredient']*10 + episode['Product']).astype(float)\n",
    "        data['QMerged_label'] = (data['QMerged_label']).astype(float)\n",
    "        data['Reward'] = reward\n",
    "        episode2 =  episode.merge(data[['QMerged_label','Real_Cost','Reward']], left_on='Merged_label',right_on='QMerged_label', how = 'inner')\n",
    "        data = data.drop('Reward',1)\n",
    "        \n",
    "        # Calculate our terminal reward\n",
    "        if(budget >= episode2['Real_Cost'].sum()):\n",
    "            Return = 1  \n",
    "        else:\n",
    "            Return = -1 \n",
    "        episode2 = episode2.drop('Reward',1)\n",
    "        episode2['Return'] = Return\n",
    "        \n",
    "        # Apply update rule to actions that were involved in obtaining terminal reward \n",
    "        data = data.merge(episode2[['Merged_label','Return']], left_on='QMerged_label',right_on='Merged_label', how = 'outer')\n",
    "        data['Return'] = data['Return'].fillna(0)\n",
    "        for v in range(0,len(data)):\n",
    "            if data.iloc[v,7] == 0:\n",
    "                data.iloc[v,5] = data.iloc[v,5] \n",
    "            else:\n",
    "                data.iloc[v,5]  = data.iloc[v,5]  + alpha*( (data.iloc[v,7]/len(Ingredients)) - data.iloc[v,5] )\n",
    "                \n",
    "        # Output table    \n",
    "        data = data.drop('Merged_label',1)\n",
    "        data = data.drop('Return',1)\n",
    "        \n",
    "        # Output is the Sum of V(a) for all episodes\n",
    "        output  = np.append(output, data.iloc[:,-1].sum())\n",
    "        \n",
    "        # Output 1 and 2 are the Sum of V(a) for for the cheapest actions and rest respectively\n",
    "        # I did this so we can copare how they converge whilst applying to such a small sample problem\n",
    "        output1 = np.append(output1, data.iloc[[1,2,4,8],-1].sum())\n",
    "        output2 = np.append(output2, data.iloc[[0,3,5,6,7],-1].sum())\n",
    "        \n",
    "        # Ouput to optimal action from the model based on highest V(a)\n",
    "        action = pd.DataFrame(data.groupby('Ingredient')['V'].max())\n",
    "        action2 = action.merge(data, left_on = 'V',right_on = 'V', how = 'inner')\n",
    "        action3 = action2[['Ingredient','Product']]\n",
    "        action3 = action3.groupby('Ingredient')['Product'].apply(lambda x :x.iloc[np.random.randint(0, len(x))])\n",
    "        \n",
    "        # Output the optimal action at each episode so we can see how this changes over time\n",
    "        actioninfull = np.append(actioninfull, action3)\n",
    "        actioninfull = actioninfull.astype(int)\n",
    "        \n",
    "        # Rename for clarity\n",
    "        SumofV = output\n",
    "        SumofVForCheapest = output1\n",
    "        SumofVForExpensive = output2\n",
    "        OptimalActions = action3\n",
    "        ActionsSelectedinTime = actioninfull\n",
    "        \n",
    "    return(SumofV, SumofVForCheapest, SumofVForExpensive, OptimalActions, data, ActionsSelectedinTime)"
   ]
  },
  {
   "cell_type": "code",
   "execution_count": 5,
   "id": "ca8056e2-b75d-49e1-8500-27e726b8086d",
   "metadata": {},
   "outputs": [
    {
     "name": "stdout",
     "output_type": "stream",
     "text": [
      "--- 4.562125205993652 seconds ---\n"
     ]
    }
   ],
   "source": [
    "alpha = 0.1\n",
    "num_episodes = 100\n",
    "epsilon = 0.5\n",
    "budget = 30\n",
    "\n",
    "# Currently not using a reward\n",
    "reward = [0,0,0,0,0,0,0,0,0]\n",
    "\n",
    "start_time = time.time()\n",
    "\n",
    "Mdl = MCModelv1(data=data, alpha = alpha, e = num_episodes,epsilon = epsilon, budget = budget, reward = reward)\n",
    "\n",
    "print(\"--- %s seconds ---\" % (time.time() - start_time))"
   ]
  },
  {
   "cell_type": "code",
   "execution_count": 6,
   "id": "60abedcf-7fdb-469c-8bc8-92d86530f314",
   "metadata": {},
   "outputs": [
    {
     "name": "stdout",
     "output_type": "stream",
     "text": [
      "Ingredient\n",
      "1    2\n",
      "2    1\n",
      "3    1\n",
      "4    3\n",
      "Name: Product, dtype: int64\n"
     ]
    },
    {
     "data": {
      "text/html": [
       "<div>\n",
       "<style scoped>\n",
       "    .dataframe tbody tr th:only-of-type {\n",
       "        vertical-align: middle;\n",
       "    }\n",
       "\n",
       "    .dataframe tbody tr th {\n",
       "        vertical-align: top;\n",
       "    }\n",
       "\n",
       "    .dataframe thead th {\n",
       "        text-align: right;\n",
       "    }\n",
       "</style>\n",
       "<table border=\"1\" class=\"dataframe\">\n",
       "  <thead>\n",
       "    <tr style=\"text-align: right;\">\n",
       "      <th></th>\n",
       "      <th>Ingredient</th>\n",
       "      <th>Product</th>\n",
       "      <th>QMerged_label</th>\n",
       "      <th>Real_Cost</th>\n",
       "      <th>V_0</th>\n",
       "      <th>V</th>\n",
       "    </tr>\n",
       "  </thead>\n",
       "  <tbody>\n",
       "    <tr>\n",
       "      <th>0</th>\n",
       "      <td>1</td>\n",
       "      <td>1</td>\n",
       "      <td>11.0</td>\n",
       "      <td>10</td>\n",
       "      <td>0</td>\n",
       "      <td>0.212307</td>\n",
       "    </tr>\n",
       "    <tr>\n",
       "      <th>1</th>\n",
       "      <td>1</td>\n",
       "      <td>2</td>\n",
       "      <td>12.0</td>\n",
       "      <td>6</td>\n",
       "      <td>0</td>\n",
       "      <td>0.222715</td>\n",
       "    </tr>\n",
       "    <tr>\n",
       "      <th>2</th>\n",
       "      <td>2</td>\n",
       "      <td>1</td>\n",
       "      <td>21.0</td>\n",
       "      <td>8</td>\n",
       "      <td>0</td>\n",
       "      <td>0.249879</td>\n",
       "    </tr>\n",
       "    <tr>\n",
       "      <th>3</th>\n",
       "      <td>2</td>\n",
       "      <td>2</td>\n",
       "      <td>22.0</td>\n",
       "      <td>11</td>\n",
       "      <td>0</td>\n",
       "      <td>0.170094</td>\n",
       "    </tr>\n",
       "    <tr>\n",
       "      <th>4</th>\n",
       "      <td>3</td>\n",
       "      <td>1</td>\n",
       "      <td>31.0</td>\n",
       "      <td>3</td>\n",
       "      <td>0</td>\n",
       "      <td>0.249478</td>\n",
       "    </tr>\n",
       "    <tr>\n",
       "      <th>5</th>\n",
       "      <td>3</td>\n",
       "      <td>2</td>\n",
       "      <td>32.0</td>\n",
       "      <td>7</td>\n",
       "      <td>0</td>\n",
       "      <td>0.149106</td>\n",
       "    </tr>\n",
       "    <tr>\n",
       "      <th>6</th>\n",
       "      <td>4</td>\n",
       "      <td>1</td>\n",
       "      <td>41.0</td>\n",
       "      <td>8</td>\n",
       "      <td>0</td>\n",
       "      <td>0.177807</td>\n",
       "    </tr>\n",
       "    <tr>\n",
       "      <th>7</th>\n",
       "      <td>4</td>\n",
       "      <td>2</td>\n",
       "      <td>42.0</td>\n",
       "      <td>5</td>\n",
       "      <td>0</td>\n",
       "      <td>0.198527</td>\n",
       "    </tr>\n",
       "    <tr>\n",
       "      <th>8</th>\n",
       "      <td>4</td>\n",
       "      <td>3</td>\n",
       "      <td>43.0</td>\n",
       "      <td>1</td>\n",
       "      <td>0</td>\n",
       "      <td>0.247306</td>\n",
       "    </tr>\n",
       "  </tbody>\n",
       "</table>\n",
       "</div>"
      ],
      "text/plain": [
       "   Ingredient  Product  QMerged_label  Real_Cost  V_0         V\n",
       "0           1        1           11.0         10    0  0.212307\n",
       "1           1        2           12.0          6    0  0.222715\n",
       "2           2        1           21.0          8    0  0.249879\n",
       "3           2        2           22.0         11    0  0.170094\n",
       "4           3        1           31.0          3    0  0.249478\n",
       "5           3        2           32.0          7    0  0.149106\n",
       "6           4        1           41.0          8    0  0.177807\n",
       "7           4        2           42.0          5    0  0.198527\n",
       "8           4        3           43.0          1    0  0.247306"
      ]
     },
     "execution_count": 6,
     "metadata": {},
     "output_type": "execute_result"
    }
   ],
   "source": [
    "print(Mdl[3])\n",
    "Mdl[4]"
   ]
  },
  {
   "cell_type": "code",
   "execution_count": 7,
   "id": "bb92ee2c-2f25-4653-a1c1-b70d58248416",
   "metadata": {},
   "outputs": [
    {
     "data": {
      "image/png": "[encoded data removed]",
      "text/plain": [
       "<Figure size 432x288 with 1 Axes>"
      ]
     },
     "metadata": {
      "needs_background": "light"
     },
     "output_type": "display_data"
    }
   ],
   "source": [
    "plt.plot(range(0,num_episodes), Mdl[0])\n",
    "plt.title('Sum of V for all Actions at each Episode')\n",
    "plt.xlabel('Episode')\n",
    "plt.ylabel('Sum of V')\n",
    "plt.show()"
   ]
  },
  {
   "cell_type": "code",
   "execution_count": 8,
   "id": "31e34c90-e959-4cde-a6c3-1c67a0d9b920",
   "metadata": {},
   "outputs": [
    {
     "data": {
      "image/png": "[encoded data removed]",
      "text/plain": [
       "<Figure size 432x288 with 1 Axes>"
      ]
     },
     "metadata": {
      "needs_background": "light"
     },
     "output_type": "display_data"
    }
   ],
   "source": [
    "plt.plot(range(0,num_episodes), Mdl[1],range(0,num_episodes), Mdl[2])\n",
    "plt.title('Sum of V for the cheapest actions and others seperated at each Episode')\n",
    "plt.xlabel('Episode')\n",
    "plt.ylabel('Sum of V')\n",
    "plt.show()"
   ]
  },
  {
   "cell_type": "code",
   "execution_count": 9,
   "id": "5a9b1b52-dc5e-46fb-8742-026f5034bce0",
   "metadata": {},
   "outputs": [
    {
     "data": {
      "image/png": "[encoded data removed]",
      "text/plain": [
       "<Figure size 432x288 with 1 Axes>"
      ]
     },
     "metadata": {
      "needs_background": "light"
     },
     "output_type": "display_data"
    },
    {
     "data": {
      "image/png": "[encoded data removed]",
      "text/plain": [
       "<Figure size 432x288 with 1 Axes>"
      ]
     },
     "metadata": {
      "needs_background": "light"
     },
     "output_type": "display_data"
    },
    {
     "data": {
      "image/png": "[encoded data removed]",
      "text/plain": [
       "<Figure size 432x288 with 1 Axes>"
      ]
     },
     "metadata": {
      "needs_background": "light"
     },
     "output_type": "display_data"
    },
    {
     "data": {
      "image/png": "[encoded data removed]",
      "text/plain": [
       "<Figure size 432x288 with 1 Axes>"
      ]
     },
     "metadata": {
      "needs_background": "light"
     },
     "output_type": "display_data"
    }
   ],
   "source": [
    "Ingredients = list(set(data['Ingredient']))\n",
    "actions = pd.DataFrame()\n",
    "\n",
    "for a in range(0, len(Ingredients)):   \n",
    "    individualactions = []\n",
    "    for i in range(0,num_episodes):    \n",
    "        individualactions = np.append(individualactions, Mdl[5][a+(i*(len(Ingredients)))])\n",
    "    actions[a] = individualactions\n",
    "    plt.plot(range(0,num_episodes), actions[a])\n",
    "    plt.title('Product for Ingredient: ' + str(a+1))\n",
    "    plt.xlabel('Episode')\n",
    "    plt.ylabel('Product')\n",
    "    plt.show()    "
   ]
  },
  {
   "cell_type": "code",
   "execution_count": 10,
   "id": "2fa4c7dd-cc70-4336-ac67-09b53154aa2d",
   "metadata": {},
   "outputs": [
    {
     "data": {
      "image/png": "[encoded data removed]",
      "text/plain": [
       "<Figure size 432x288 with 1 Axes>"
      ]
     },
     "metadata": {
      "needs_background": "light"
     },
     "output_type": "display_data"
    }
   ],
   "source": [
    "actions2 = actions\n",
    "actions2['Product1'] = actions2.iloc[:,0]+10\n",
    "actions2['Product2'] = actions2.iloc[:,1]+20\n",
    "actions2['Product3'] = actions2.iloc[:,2]+30\n",
    "actions2['Product4'] = actions2.iloc[:,3]+40\n",
    "\n",
    "actions3 = actions2.merge(data[['QMerged_label','Real_Cost']],left_on = 'Product1',right_on = 'QMerged_label', how = 'left')\n",
    "actions4 = actions3.merge(data[['QMerged_label','Real_Cost']],left_on = 'Product2',right_on = 'QMerged_label', how = 'left')\n",
    "actions5 = actions4.merge(data[['QMerged_label','Real_Cost']],left_on = 'Product3',right_on = 'QMerged_label', how = 'left')\n",
    "actions6 = actions5.merge(data[['QMerged_label','Real_Cost']],left_on = 'Product4',right_on = 'QMerged_label', how = 'left')\n",
    "\n",
    "\n",
    "actions6['Total_Cost'] = actions6.iloc[:,9] + actions6.iloc[:,11] + actions6.iloc[:,13] + actions6.iloc[:,15]\n",
    "actions6 = actions6.iloc[:,[0,1,2,3,-1]]\n",
    "\n",
    "actions6 = actions6.iloc[:num_episodes]\n",
    "\n",
    "plt.plot(range(0,num_episodes), actions6['Total_Cost'])\n",
    "plt.plot([0, num_episodes], [budget, budget], 'k-', lw=2)\n",
    "plt.title('Total Real Cost of Best Products at each Episode')\n",
    "plt.xlabel('Episode')\n",
    "plt.ylabel('Total Real Cost (£)')\n",
    "plt.ylim([0,budget+10])\n",
    "plt.show()\n"
   ]
  },
  {
   "cell_type": "code",
   "execution_count": null,
   "id": "d4c247f6-16d5-4214-b11d-60ee332540a9",
   "metadata": {},
   "outputs": [],
   "source": []
  }
 ],
 "metadata": {
  "kernelspec": {
   "display_name": "Python 3 (ipykernel)",
   "language": "python",
   "name": "python3"
  },
  "language_info": {
   "codemirror_mode": {
    "name": "ipython",
    "version": 3
   },
   "file_extension": ".py",
   "mimetype": "text/x-python",
   "name": "python",
   "nbconvert_exporter": "python",
   "pygments_lexer": "ipython3",
   "version": "3.9.13"
  }
 },
 "nbformat": 4,
 "nbformat_minor": 5
}
